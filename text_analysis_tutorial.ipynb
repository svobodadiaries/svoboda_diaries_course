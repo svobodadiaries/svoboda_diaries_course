{
 "cells": [
  {
   "cell_type": "markdown",
   "id": "00107049-ada9-4d74-8ea9-8a8cad8bf75d",
   "metadata": {},
   "source": [
    "# MELC 496 Text Analysis Tutorial\n",
    "\n",
    "This tutorial will introduce how to perform textual analysis using Python and a historical corpus, the Svoboda diaries. To run this tutorial, you will need to have some fundamental\n",
    "data science and machine learning libraries installed (e.g., pandas, numpy, sklearn, matplotlib, seaborn).\n",
    "\n",
    "You will also want to have the Svoboda diaries corpus downloaded and in a folder on your computer. Make a note of this location, as you will need to enter it below.\n",
    "\n",
    "If you do not know how to use Jupyter Notebook, this page may be helpful: https://www.dataquest.io/blog/jupyter-notebook-tutorial/"
   ]
  },
  {
   "cell_type": "code",
   "execution_count": 2,
   "id": "8a8b8bfa-6ed8-4b3f-8adc-5d898fc19bd6",
   "metadata": {},
   "outputs": [],
   "source": [
    "import pandas as pd"
   ]
  },
  {
   "cell_type": "code",
   "execution_count": 46,
   "id": "f0d9f172-4bf3-4f4e-8871-7934dc85dff9",
   "metadata": {},
   "outputs": [],
   "source": [
    "# packages to store and manipulate data\n",
    "import pandas as pd\n",
    "import numpy as np\n",
    "\n",
    "# plotting packages\n",
    "import matplotlib.pyplot as plt\n",
    "import seaborn as sns\n",
    "\n",
    "# model building package\n",
    "import sklearn\n",
    "\n",
    "# package to clean text\n",
    "import re\n",
    "\n",
    "# package to perform operating system functions, like obtaining the location of a file\n",
    "import os"
   ]
  },
  {
   "cell_type": "code",
   "execution_count": 7,
   "id": "40a95855-ee62-4562-9893-72fb2b062d4b",
   "metadata": {},
   "outputs": [
    {
     "name": "stdout",
     "output_type": "stream",
     "text": [
      "/Users/annietchen/PycharmProjects/svoboda_diaries_course\n"
     ]
    }
   ],
   "source": [
    "print(os.getcwd())"
   ]
  },
  {
   "cell_type": "code",
   "execution_count": 11,
   "id": "7d583d62-f7ff-4176-bc50-662739e22568",
   "metadata": {},
   "outputs": [],
   "source": [
    "# set data_dir to the path on your computer where you have the files from the Svoboda diaries corpus\n",
    "data_dir = \"/Users/annietchen/PycharmProjects/sdp_network/data/annotatable_entries/47\""
   ]
  },
  {
   "cell_type": "code",
   "execution_count": 33,
   "id": "2f9155e8-4442-4034-8254-0ee4218afb52",
   "metadata": {},
   "outputs": [],
   "source": [
    "def read_files(data_dir):\n",
    "    \"\"\"\n",
    "    Read all of the files in a directory into a list.\n",
    "\n",
    "    :param data_dir: directory to ingest\n",
    "    :return: dataframe of files in the directory\n",
    "    \"\"\"\n",
    "    import os\n",
    "    import pandas as pd\n",
    "    import matplotlib.pyplot as plt\n",
    "\n",
    "    month_dict = {\"Jan\": 1, \"Feb\": 2, \"Mch\": 3, \"Apr\": 4, \"May\": 5, \"Jun\": 6, \"July\": 7, \"Augt\": 8, \"Sept\": 9, \"Oct\": 10, \"Novr\": 11, \"Decr\": 12}\n",
    "\n",
    "    index_list = []\n",
    "    year_list = []\n",
    "    month_list = []\n",
    "    day_list = []\n",
    "    entry = []\n",
    "    entry_list = []\n",
    "\n",
    "    # obtain a list of the files in this directory, sorted in ascending order\n",
    "    entry_filenames = sorted(os.listdir(data_dir))\n",
    "\n",
    "    # loop through directory and construct a list containing the text from each of the entries\n",
    "    for entry_filename in entry_filenames:\n",
    "        # construct list of days\n",
    "        index = int(entry_filename.split('_')[0])\n",
    "        year = int(entry_filename.split('_')[1])\n",
    "        month = month_dict[entry_filename.split('_')[2]]\n",
    "        date = int(entry_filename.split('_')[3])\n",
    "\n",
    "        # read in entries\n",
    "        with open(data_dir + \"/\" + entry_filename, \"r\") as entry_file:\n",
    "            entry_text = entry_file.read()\n",
    "\n",
    "        # append day metadata and entry\n",
    "        entry_list.append([index, year, month, date, entry_text])\n",
    "\n",
    "    # convert to dataframe and sort in ascending order by day\n",
    "    entries_df = pd.DataFrame(entry_list, columns=['day', 'year', 'month', 'date', 'text'])\n",
    "    entries_sorted_df = entries_df.sort_values(by='day', ascending = True).reset_index(drop=True)\n",
    "\n",
    "    return entries_sorted_df"
   ]
  },
  {
   "cell_type": "code",
   "execution_count": 34,
   "id": "ada7edcc-ac3b-48dd-b3f8-94bf2e8696f2",
   "metadata": {},
   "outputs": [],
   "source": [
    "# call the read_files function to read all of the entries in the corpus (diary 47 of the Svoboda Diaries)\n",
    "entries = read_files(data_dir)"
   ]
  },
  {
   "cell_type": "code",
   "execution_count": 35,
   "id": "c8b58e1c-ebc6-4b9b-b04c-bbb20cbb4dbe",
   "metadata": {},
   "outputs": [
    {
     "data": {
      "text/html": [
       "<div>\n",
       "<style scoped>\n",
       "    .dataframe tbody tr th:only-of-type {\n",
       "        vertical-align: middle;\n",
       "    }\n",
       "\n",
       "    .dataframe tbody tr th {\n",
       "        vertical-align: top;\n",
       "    }\n",
       "\n",
       "    .dataframe thead th {\n",
       "        text-align: right;\n",
       "    }\n",
       "</style>\n",
       "<table border=\"1\" class=\"dataframe\">\n",
       "  <thead>\n",
       "    <tr style=\"text-align: right;\">\n",
       "      <th></th>\n",
       "      <th>day</th>\n",
       "      <th>year</th>\n",
       "      <th>month</th>\n",
       "      <th>date</th>\n",
       "      <th>text</th>\n",
       "    </tr>\n",
       "  </thead>\n",
       "  <tbody>\n",
       "    <tr>\n",
       "      <th>0</th>\n",
       "      <td>1</td>\n",
       "      <td>1897</td>\n",
       "      <td>11</td>\n",
       "      <td>4</td>\n",
       "      <td>4 Thursd The @ 6.62 1897 Novr Light N.W. &amp; fin...</td>\n",
       "    </tr>\n",
       "    <tr>\n",
       "      <th>1</th>\n",
       "      <td>2</td>\n",
       "      <td>1897</td>\n",
       "      <td>11</td>\n",
       "      <td>5</td>\n",
       "      <td>5 Frid Light N.W. &amp; fine weather at 4 am I cam...</td>\n",
       "    </tr>\n",
       "    <tr>\n",
       "      <th>2</th>\n",
       "      <td>3</td>\n",
       "      <td>1897</td>\n",
       "      <td>11</td>\n",
       "      <td>6</td>\n",
       "      <td>6 Satur Light S. Ely breeze &amp; cloudy a little\\...</td>\n",
       "    </tr>\n",
       "    <tr>\n",
       "      <th>3</th>\n",
       "      <td>4</td>\n",
       "      <td>1897</td>\n",
       "      <td>11</td>\n",
       "      <td>7</td>\n",
       "      <td>7 Sund. 1897 Novr Light air &amp; getting fine~ At...</td>\n",
       "    </tr>\n",
       "    <tr>\n",
       "      <th>4</th>\n",
       "      <td>5</td>\n",
       "      <td>1897</td>\n",
       "      <td>11</td>\n",
       "      <td>8</td>\n",
       "      <td>8 Mond The @ 6.60 Eliza’s arrival from Paris [...</td>\n",
       "    </tr>\n",
       "  </tbody>\n",
       "</table>\n",
       "</div>"
      ],
      "text/plain": [
       "   day  year  month  date                                               text\n",
       "0    1  1897     11     4  4 Thursd The @ 6.62 1897 Novr Light N.W. & fin...\n",
       "1    2  1897     11     5  5 Frid Light N.W. & fine weather at 4 am I cam...\n",
       "2    3  1897     11     6  6 Satur Light S. Ely breeze & cloudy a little\\...\n",
       "3    4  1897     11     7  7 Sund. 1897 Novr Light air & getting fine~ At...\n",
       "4    5  1897     11     8  8 Mond The @ 6.60 Eliza’s arrival from Paris [..."
      ]
     },
     "execution_count": 35,
     "metadata": {},
     "output_type": "execute_result"
    }
   ],
   "source": [
    "# take a look at the first few entries\n",
    "entries.head()"
   ]
  },
  {
   "cell_type": "code",
   "execution_count": 36,
   "id": "50798672-44ec-45ea-bf52-8b205ba960c3",
   "metadata": {},
   "outputs": [
    {
     "data": {
      "text/plain": [
       "273"
      ]
     },
     "execution_count": 36,
     "metadata": {},
     "output_type": "execute_result"
    }
   ],
   "source": [
    "# How many entries do we have?\n",
    "len(entries)"
   ]
  },
  {
   "cell_type": "code",
   "execution_count": 38,
   "id": "359f83e4-de4f-4205-ad71-f0603652cebf",
   "metadata": {},
   "outputs": [],
   "source": [
    "def find_string_occurrences(df, column_name, search_string):\n",
    "    \"\"\"\n",
    "    Finds all occurrences of a string in a DataFrame column and returns a list of indices for each row.\n",
    "\n",
    "    Args:\n",
    "        df (pd.DataFrame): The dataFrame to search in.\n",
    "        column_name (str): The name of the column to search.\n",
    "        search_string (str): The string to search for.\n",
    "\n",
    "    Returns:\n",
    "        pd.Series: A Series where each element is a list of indices of the occurrences of the search string in the corresponding row, or an empty list if not found.\n",
    "    \"\"\"\n",
    "    entries_containing_string = []\n",
    "\n",
    "    for index, row in df.iterrows():\n",
    "        if search_string in row[column_name]:\n",
    "            entries_containing_string.append(row[column_name])\n",
    "\n",
    "    return entries_containing_string"
   ]
  },
  {
   "cell_type": "code",
   "execution_count": 39,
   "id": "d5ca99c9-880e-4362-99ee-4d7d4cd43763",
   "metadata": {},
   "outputs": [],
   "source": [
    "entries_containing_string = find_string_occurrences(entries,\"text\",\"cloudy\")"
   ]
  },
  {
   "cell_type": "code",
   "execution_count": 40,
   "id": "f8714ec1-0396-4654-9342-e319ba77a93a",
   "metadata": {},
   "outputs": [
    {
     "name": "stdout",
     "output_type": "stream",
     "text": [
      "89\n"
     ]
    }
   ],
   "source": [
    "print(len(entries_containing_string))"
   ]
  },
  {
   "cell_type": "code",
   "execution_count": 41,
   "id": "7e665f0b-c5ab-469b-8d20-75060a648752",
   "metadata": {},
   "outputs": [],
   "source": [
    "entries_containing_string = find_string_occurrences(entries,\"text\",\"Jeboory\")"
   ]
  },
  {
   "cell_type": "code",
   "execution_count": 42,
   "id": "400e5a0d-bdfb-481c-aa1e-9e34eff0fb7a",
   "metadata": {},
   "outputs": [
    {
     "name": "stdout",
     "output_type": "stream",
     "text": [
      "36\n"
     ]
    }
   ],
   "source": [
    "print(len(entries_containing_string))"
   ]
  },
  {
   "cell_type": "code",
   "execution_count": 43,
   "id": "7755e777-7743-42a5-918a-07acd22c9c88",
   "metadata": {},
   "outputs": [],
   "source": [
    "def count_string_occurrences_by_month(df, target_column, search_text):\n",
    "    \"\"\"\n",
    "    Counts the occurrences of strings from one column within another column, grouped by month.\n",
    "\n",
    "    Args:\n",
    "        df (pd.DataFrame): The DataFrame containing the data.\n",
    "        target_column (str): The name of the column to search within.\n",
    "        search_text (str): string to search for\n",
    "\n",
    "    Returns:\n",
    "        pd.DataFrame: A DataFrame with the counts of occurrences per month.\n",
    "    \"\"\"\n",
    "\n",
    "    df['search_text'] = df.apply(lambda row: 1 if search_text in row[target_column] else 0, axis=1)\n",
    "    result = df.groupby(['year','month'])['search_text'].sum().reset_index()\n",
    "    return result"
   ]
  },
  {
   "cell_type": "code",
   "execution_count": 44,
   "id": "5064a53b-5f30-4e3f-9efb-82b535f3c37b",
   "metadata": {},
   "outputs": [
    {
     "name": "stdout",
     "output_type": "stream",
     "text": [
      "   year  month  search_text\n",
      "0  1897     11            8\n",
      "1  1897     12           15\n",
      "2  1898      1           19\n",
      "3  1898      2            9\n",
      "4  1898      3           25\n",
      "5  1898      4            5\n",
      "6  1898      5            6\n",
      "7  1898      6            2\n",
      "8  1898      7            0\n",
      "9  1898      8            0\n"
     ]
    }
   ],
   "source": [
    "# count occurrences of word in text by month\n",
    "result = count_string_occurrences_by_month(entries, 'text', 'cloudy')\n",
    "print(result)"
   ]
  },
  {
   "cell_type": "code",
   "execution_count": 47,
   "id": "7612bbcf-f1e0-4d74-a0e3-877feae94f33",
   "metadata": {},
   "outputs": [
    {
     "data": {
      "image/png": "[encoded data removed]",
      "text/plain": [
       "<Figure size 640x480 with 1 Axes>"
      ]
     },
     "metadata": {},
     "output_type": "display_data"
    }
   ],
   "source": [
    "# render bar plot\n",
    "ax = sns.barplot(x=\"month\", y=\"search_text\", data=result) #plot using seaborn\n",
    "plt.show()"
   ]
  },
  {
   "cell_type": "code",
   "execution_count": null,
   "id": "73e59fcb-8077-452d-838e-5af1c3f5be27",
   "metadata": {},
   "outputs": [],
   "source": []
  }
 ],
 "metadata": {
  "kernelspec": {
   "display_name": "Python 3 (ipykernel)",
   "language": "python",
   "name": "python3"
  },
  "language_info": {
   "codemirror_mode": {
    "name": "ipython",
    "version": 3
   },
   "file_extension": ".py",
   "mimetype": "text/x-python",
   "name": "python",
   "nbconvert_exporter": "python",
   "pygments_lexer": "ipython3",
   "version": "3.13.2"
  }
 },
 "nbformat": 4,
 "nbformat_minor": 5
}
